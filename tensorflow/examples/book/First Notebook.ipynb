{
 "cells": [
  {
   "cell_type": "code",
   "execution_count": 1,
   "metadata": {
    "collapsed": true
   },
   "outputs": [],
   "source": [
    "import tensorflow as tf\n",
    "import numpy as np\n",
    "import matplotlib.pyplot as plt\n",
    "%matplotlib inline"
   ]
  },
  {
   "cell_type": "code",
   "execution_count": 7,
   "metadata": {
    "collapsed": true
   },
   "outputs": [],
   "source": [
    "a = tf.random_normal([2,20])\n",
    "sess = tf.Session()\n",
    "out = sess.run(a)\n",
    "x, y = out"
   ]
  },
  {
   "cell_type": "code",
   "execution_count": 8,
   "metadata": {
    "collapsed": false
   },
   "outputs": [
    {
     "data": {
      "image/png": "[encoded data removed]",
      "text/plain": [
       "<matplotlib.figure.Figure at 0x7f065824c080>"
      ]
     },
     "metadata": {},
     "output_type": "display_data"
    },
    {
     "name": "stdout",
     "output_type": "stream",
     "text": [
      "[[-0.75419104 -0.11704644 -0.15670174  0.07317449  0.60677534  0.34940347\n",
      "  -1.26985717  0.28185943 -0.61758971 -0.14392567  0.05535816 -0.19185762\n",
      "   2.14014077  0.84378988 -0.99690288  0.6988346  -1.15752947 -0.23375322\n",
      "   0.34226552  0.39512873]\n",
      " [ 0.04138928 -2.07196617  0.23642348  0.27144858 -0.58617753 -0.20454949\n",
      "   0.43882984  1.03467762 -0.16851868 -1.04194725 -0.95618445 -0.25128138\n",
      "  -1.06204486  0.77469021 -0.15808396 -0.25620461  0.60555953 -0.765899\n",
      "   0.87031543  0.92762959]]\n"
     ]
    }
   ],
   "source": [
    "plt.scatter(x, y)\n",
    "plt.show()\n",
    "print(out)"
   ]
  },
  {
   "cell_type": "code",
   "execution_count": null,
   "metadata": {
    "collapsed": true
   },
   "outputs": [],
   "source": []
  }
 ],
 "metadata": {
  "kernelspec": {
   "display_name": "Python 3",
   "language": "python",
   "name": "python3"
  },
  "language_info": {
   "codemirror_mode": {
    "name": "ipython",
    "version": 3
   },
   "file_extension": ".py",
   "mimetype": "text/x-python",
   "name": "python",
   "nbconvert_exporter": "python",
   "pygments_lexer": "ipython3",
   "version": "3.5.2"
  }
 },
 "nbformat": 4,
 "nbformat_minor": 0
}
