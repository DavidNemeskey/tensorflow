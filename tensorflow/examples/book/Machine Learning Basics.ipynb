{
 "cells": [
  {
   "cell_type": "code",
   "execution_count": 3,
   "metadata": {
    "collapsed": true
   },
   "outputs": [],
   "source": [
    "import os\n",
    "\n",
    "import matplotlib.pyplot as plt\n",
    "import numpy as np\n",
    "import tensorflow as tf\n",
    "%matplotlib inline"
   ]
  },
  {
   "cell_type": "markdown",
   "metadata": {},
   "source": [
    "### Scaffolding"
   ]
  },
  {
   "cell_type": "code",
   "execution_count": 5,
   "metadata": {
    "collapsed": false
   },
   "outputs": [],
   "source": [
    "class ML(object):\n",
    "    def __init__(self, name='ML'):\n",
    "        self.name = name\n",
    "        self.graph = tf.Graph()\n",
    "    \n",
    "    def inference(self, X):\n",
    "        \"\"\"Compute inference model over data X and return the result.\"\"\"\n",
    "        raise NotImplementedError('Method inference(X) must be implemented.')\n",
    "    \n",
    "    def loss(self, X, Y):\n",
    "        \"\"\"Compute loss over training data X and expected outputs Y.\"\"\"\n",
    "        pass\n",
    "    \n",
    "    def inputs(self):\n",
    "        \"\"\"Read/generate input training data X and expected outputs Y.\"\"\"\n",
    "        pass\n",
    "    \n",
    "    def train(self, total_loss):\n",
    "        \"\"\"Train / adjust model parameters according to computed total loss.\"\"\"\n",
    "        \n",
    "    def evaluate(self, sess, X, Y):\n",
    "        \"\"\"Evaluate the resulting trained model.\"\"\"\n",
    "        \n",
    "    def run_training(self, training_steps, print_every=10, save_every=1000):\n",
    "        save_dir = os.path.join('saves', self.name)\n",
    "        self.sess = tf.Session(graph=self.graph)\n",
    "        tf.initialize_all_variables().run()\n",
    "        \n",
    "        X, Y = self.inputs()\n",
    "        \n",
    "        total_loss = self.loss(X, Y)\n",
    "        train_op = self.train(total_loss)\n",
    "        \n",
    "        coord = tf.train.Coordinator()\n",
    "        threads = tf.train.start_queue_runners(sess=sess, coord=coord)\n",
    "        \n",
    "        # Create a saver.\n",
    "        saver = tf.train.Saver()\n",
    "        \n",
    "        # Load the latest training checkpoint, if it exists\n",
    "        ckpt = tf.train.get_checkpoint_state(save_dir)\n",
    "        if ckpt and ckpt.model_checkpoint_path:\n",
    "            # Restores from checkpoint\n",
    "            saver.restore(sess, ckpt.model_checkpoint_path)\n",
    "            initial_step = int(ckpt.model_checkpoint_path.rsplit('-', 1)[1])\n",
    "        else:\n",
    "            initial_step = 0\n",
    "        \n",
    "        # The actual training loop\n",
    "        for step in range(initial_step, training_steps):\n",
    "            sess.run([train_op])\n",
    "            \n",
    "            # for debugging and learning purposes, see how the loss gets\n",
    "            # decremented thru training steps\n",
    "            if step % print_every == 0:\n",
    "                print('loss: ', sess.run([total_loss]))\n",
    "            \n",
    "            # Model checkpoint\n",
    "            if step % save_every == 0:\n",
    "                saver.save(sess, save_dir, global_step=step)\n",
    "                \n",
    "        saver.save(sess, save_dir, global_step=training_steps)\n",
    "        \n",
    "        self.evaluate(sess, X, Y)\n",
    "        coord.request_stop()\n",
    "        coord.join(threads)\n",
    "        sess.close()\n",
    "        \n",
    "    def __del__(self):\n",
    "        #if hasattr(self, 'sess'):\n",
    "        #    self.sess.close()\n",
    "        pass"
   ]
  },
  {
   "cell_type": "code",
   "execution_count": null,
   "metadata": {
    "collapsed": true
   },
   "outputs": [],
   "source": []
  }
 ],
 "metadata": {
  "kernelspec": {
   "display_name": "Python 3",
   "language": "python",
   "name": "python3"
  },
  "language_info": {
   "codemirror_mode": {
    "name": "ipython",
    "version": 3
   },
   "file_extension": ".py",
   "mimetype": "text/x-python",
   "name": "python",
   "nbconvert_exporter": "python",
   "pygments_lexer": "ipython3",
   "version": "3.5.2"
  }
 },
 "nbformat": 4,
 "nbformat_minor": 0
}
