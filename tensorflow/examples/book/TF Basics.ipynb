{
 "cells": [
  {
   "cell_type": "markdown",
   "metadata": {
    "collapsed": true
   },
   "source": [
    "### Defining Computation Graphs in TensorFlow\n",
    "\n",
    "The examples in said chapter."
   ]
  },
  {
   "cell_type": "code",
   "execution_count": 1,
   "metadata": {
    "collapsed": true
   },
   "outputs": [],
   "source": [
    "import tensorflow as tf\n",
    "import numpy as np\n",
    "import matplotlib.pyplot as plt\n",
    "%matplotlib inline"
   ]
  },
  {
   "cell_type": "code",
   "execution_count": 3,
   "metadata": {
    "collapsed": true
   },
   "outputs": [],
   "source": [
    "a = tf.constant(5, name=\"input_a\")\n",
    "b = tf.constant(3, name=\"input_b\")\n",
    "c = tf.mul(a,b, name=\"mul_c\")\n",
    "d = tf.add(a,b, name=\"add_d\")\n",
    "e = tf.add(c,d, name=\"add_e\")"
   ]
  },
  {
   "cell_type": "code",
   "execution_count": 5,
   "metadata": {
    "collapsed": false
   },
   "outputs": [
    {
     "data": {
      "text/plain": [
       "23"
      ]
     },
     "execution_count": 5,
     "metadata": {},
     "output_type": "execute_result"
    }
   ],
   "source": [
    "sess = tf.Session()\n",
    "sess.run(e)"
   ]
  },
  {
   "cell_type": "code",
   "execution_count": 6,
   "metadata": {
    "collapsed": false
   },
   "outputs": [
    {
     "data": {
      "text/plain": [
       "15"
      ]
     },
     "execution_count": 6,
     "metadata": {},
     "output_type": "execute_result"
    }
   ],
   "source": [
    "sess.run(c)"
   ]
  },
  {
   "cell_type": "code",
   "execution_count": 8,
   "metadata": {
    "collapsed": false
   },
   "outputs": [
    {
     "name": "stdout",
     "output_type": "stream",
     "text": [
      "23 <class 'numpy.int32'>\n",
      "<tensorflow.python.training.summary_io.SummaryWriter object at 0x7f2964ee9b70>\n"
     ]
    }
   ],
   "source": [
    "output = sess.run(e)\n",
    "print(output, type(output))\n",
    "writer = tf.train.SummaryWriter('./my_graph', sess.graph)\n",
    "print(writer)"
   ]
  },
  {
   "cell_type": "code",
   "execution_count": 10,
   "metadata": {
    "collapsed": false
   },
   "outputs": [],
   "source": [
    "writer.close()\n",
    "sess.close()"
   ]
  },
  {
   "cell_type": "code",
   "execution_count": 11,
   "metadata": {
    "collapsed": false
   },
   "outputs": [
    {
     "name": "stdout",
     "output_type": "stream",
     "text": [
      "Tensor(\"input_i:0\", shape=(2,), dtype=int32) <class 'tensorflow.python.framework.ops.Tensor'>\n"
     ]
    }
   ],
   "source": [
    "i = tf.constant([5,3], name=\"input_i\")\n",
    "b = tf.reduce_prod(a, name=\"prod_b\")\n",
    "c = tf.reduce_sum(a, name=\"sum_c\")\n",
    "d = tf.add(b,c, name=\"add_d\")\n",
    "print(i, type(i))"
   ]
  },
  {
   "cell_type": "code",
   "execution_count": 13,
   "metadata": {
    "collapsed": false
   },
   "outputs": [
    {
     "name": "stdout",
     "output_type": "stream",
     "text": [
      "True\n"
     ]
    }
   ],
   "source": [
    "import numpy as np  # Don't forget to import NumPy!\n",
    "\n",
    "# 0-D Tensor with 32-bit integer data type\n",
    "t_0 = np.array(50, dtype=np.int32)\n",
    "\n",
    "# 1-D Tensor with byte string data type\n",
    "# Note: don't explicitly specify dtype when using strings in NumPy\n",
    "t_1 = np.array([b\"apple\", b\"peach\", b\"grape\"])\n",
    "\n",
    "# 1-D Tensor with boolean data type\n",
    "t_2 = np.array([[True, False, False],\n",
    "                [False, False, True],\n",
    "                [False, True, False]], dtype=np.bool)\n",
    "\n",
    "# 3-D Tensor with 64-bit integer data type\n",
    "t_3 = np.array([[ [0, 0], [0, 1], [0, 2] ],\n",
    "                [ [1, 0], [1, 1], [1, 2] ],\n",
    "                [ [2, 0], [2, 1], [2, 2] ]], dtype=np.int64)\n",
    "\n",
    "print(np.int32 == tf.int32)"
   ]
  },
  {
   "cell_type": "code",
   "execution_count": 14,
   "metadata": {
    "collapsed": false
   },
   "outputs": [
    {
     "name": "stdout",
     "output_type": "stream",
     "text": [
      "Tensor(\"input_shape:0\", shape=(1,), dtype=int32) <class 'tensorflow.python.framework.ops.Tensor'>\n"
     ]
    }
   ],
   "source": [
    "## Shapes\n",
    "\n",
    "# Find the shape of the mystery tensor\n",
    "shape = tf.shape(i, name=\"input_shape\")\n",
    "print(shape, type(shape))"
   ]
  },
  {
   "cell_type": "code",
   "execution_count": 17,
   "metadata": {
    "collapsed": false
   },
   "outputs": [
    {
     "name": "stdout",
     "output_type": "stream",
     "text": [
      "<class 'numpy.ndarray'> <class 'numpy.ndarray'> <class 'tensorflow.python.framework.ops.Tensor'>\n",
      "[6 8]\n"
     ]
    }
   ],
   "source": [
    "## Does this work?!\n",
    "\n",
    "# Initialize some tensors to use in computation\n",
    "a = np.array([2, 3], dtype=np.int32)\n",
    "b = np.array([4, 5], dtype=np.int32)\n",
    "\n",
    "# Use `tf.add()` to initialize an \"add\" Operation\n",
    "# The variable `c` will be a handle to the Tensor output of this Op\n",
    "c = tf.add(a, b, name=\"my_add_op\")\n",
    "\n",
    "print(type(a), type(b), type(c))\n",
    "sess2 = tf.Session()\n",
    "print(sess2.run(c))"
   ]
  },
  {
   "cell_type": "markdown",
   "metadata": {},
   "source": [
    "#### More about graphs"
   ]
  },
  {
   "cell_type": "code",
   "execution_count": 18,
   "metadata": {
    "collapsed": true
   },
   "outputs": [],
   "source": [
    "# Create a new graph:\n",
    "g = tf.Graph()\n",
    "\n",
    "with g.as_default():\n",
    "    # Create Operations as usual; they will be added to graph `g`\n",
    "    a = tf.add(2, 3, name='g_add')\n",
    "    \n",
    "# Placed in the default graph\n",
    "in_default_graph = tf.add(1, 2, name='def_add')\n",
    "\n",
    "# Placed in graph `g`\n",
    "with g.as_default():\n",
    "    in_graph_g = tf.mul(2, 3, name='g_mul')\n",
    "    \n",
    "default_graph = tf.get_default_graph()"
   ]
  },
  {
   "cell_type": "markdown",
   "metadata": {},
   "source": [
    "#### Feed dict"
   ]
  },
  {
   "cell_type": "code",
   "execution_count": 21,
   "metadata": {
    "collapsed": false
   },
   "outputs": [
    {
     "name": "stdout",
     "output_type": "stream",
     "text": [
      "Vanilla: 21\n",
      "Replaced: 45\n"
     ]
    }
   ],
   "source": [
    "# Create Operations, Tensors, etc (using the default graph)\n",
    "a = tf.add(2, 5)\n",
    "b = tf.mul(a, 3)\n",
    "\n",
    "# Start up a `Session` using the default graph\n",
    "sess = tf.Session()\n",
    "\n",
    "# Run the vanilla session\n",
    "print('Vanilla: {}'.format(sess.run(b)))\n",
    "\n",
    "# Define a dictionary that says to replace the value of `a` with 15\n",
    "replace_dict = {a: 15}\n",
    "\n",
    "# Run the session, passing in `replace_dict` as the value to `feed_dict`\n",
    "print('Replaced: {}'.format(sess.run(b, feed_dict=replace_dict)))\n",
    "\n",
    "sess.close()"
   ]
  },
  {
   "cell_type": "markdown",
   "metadata": {},
   "source": [
    "#### Tensor.eval()"
   ]
  },
  {
   "cell_type": "code",
   "execution_count": 25,
   "metadata": {
    "collapsed": false
   },
   "outputs": [
    {
     "name": "stdout",
     "output_type": "stream",
     "text": [
      "5\n"
     ]
    }
   ],
   "source": [
    "# Define simple constant\n",
    "a = tf.constant(5)\n",
    "\n",
    "# Open up a Session\n",
    "sess = tf.Session()\n",
    "\n",
    "# Use the Session as a default inside of `with` block\n",
    "with sess.as_default():\n",
    "    print(a.eval())\n",
    "\n",
    "# Have to close Session manually.\n",
    "sess.close()"
   ]
  },
  {
   "cell_type": "markdown",
   "metadata": {},
   "source": [
    "#### Placeholders"
   ]
  },
  {
   "cell_type": "code",
   "execution_count": 27,
   "metadata": {
    "collapsed": false
   },
   "outputs": [
    {
     "name": "stdout",
     "output_type": "stream",
     "text": [
      "d=23\n"
     ]
    }
   ],
   "source": [
    "# Creates a placeholder vector of length 2 with data type int32\n",
    "a = tf.placeholder(tf.int32, shape=[2], name=\"my_input\")\n",
    "\n",
    "# Use the placeholder as if it were any other Tensor object\n",
    "b = tf.reduce_prod(a, name=\"prod_b\")\n",
    "c = tf.reduce_sum(a, name=\"sum_c\")\n",
    "\n",
    "# Finish off the graph\n",
    "d = tf.add(b, c, name=\"add_d\")\n",
    "\n",
    "# Open a TensorFlow Session\n",
    "with tf.Session() as sess:\n",
    "    \n",
    "    # Create a dictionary to pass into `feed_dict`\n",
    "    # Key: `a`, the handle to the placeholder's output Tensor\n",
    "    # Value: A vector with value [5, 3] and int32 data type\n",
    "    input_dict = {a: np.array([5, 3], dtype=np.int32)}\n",
    "    \n",
    "    # Fetch the value of `d`, feeding the values of `input_vector` into `a`\n",
    "    print('d={}'.format(sess.run(d, feed_dict=input_dict)))"
   ]
  },
  {
   "cell_type": "markdown",
   "metadata": {},
   "source": [
    "#### Variables"
   ]
  },
  {
   "cell_type": "code",
   "execution_count": 31,
   "metadata": {
    "collapsed": false
   },
   "outputs": [
    {
     "name": "stdout",
     "output_type": "stream",
     "text": [
      "zeros =  [[ 0.  0.]\n",
      " [ 0.  0.]]\n",
      "ones =  [ 1.  1.  1.  1.  1.  1.]\n",
      "uniform =  [[[ 9.90992069  2.13805079  9.66162491]\n",
      "  [ 3.07296634  8.87727547  1.289047  ]\n",
      "  [ 2.024405    6.0967207   8.25237179]]\n",
      "\n",
      " [[ 4.2806921   2.53113627  6.10365963]\n",
      "  [ 8.92438507  7.37248993  1.08124971]\n",
      "  [ 6.50774384  8.79329491  9.58144188]]\n",
      "\n",
      " [[ 4.82066059  7.06784487  8.19956398]\n",
      "  [ 5.92780018  6.06400967  2.10077167]\n",
      "  [ 2.97242045  9.59724045  8.19795513]]]\n",
      "normal =  [[[-2.27528453  3.1213069   2.73794055]\n",
      "  [ 2.93256831  0.37871492  0.75476038]\n",
      "  [-0.24290156 -1.38127148  4.80996466]]\n",
      "\n",
      " [[ 1.32689667 -3.00137544 -0.04421335]\n",
      "  [-1.39376903 -1.45173824 -0.74971473]\n",
      "  [ 2.38709521  2.34441972  2.24946547]]\n",
      "\n",
      " [[-3.604743    1.176844   -1.22946692]\n",
      "  [-0.57156056 -0.13345022 -0.28318942]\n",
      "  [ 1.29720473 -2.02519631  0.75045985]]]\n",
      "trunc =  [[ 5.16969872  5.17834234]\n",
      " [ 3.23011303  3.36001062]]\n",
      "random_var =  [[ 0.10104871 -0.17173322]\n",
      " [-1.01679921 -0.17740199]]\n"
     ]
    }
   ],
   "source": [
    "# Pass in a starting value of three for the variable\n",
    "my_var = tf.Variable(3, name=\"my_variable\")\n",
    "\n",
    "add = tf.add(5, my_var)\n",
    "mul = tf.mul(8, my_var)\n",
    "\n",
    "# 2x2 matrix of zeros\n",
    "zeros = tf.zeros([2, 2])\n",
    "\n",
    "# vector of length 6 of ones\n",
    "ones = tf.ones([6])\n",
    "\n",
    "# 3x3x3 Tensor of random uniform values between 0 and 10\n",
    "uniform = tf.random_uniform([3, 3, 3], minval=0, maxval=10)\n",
    "\n",
    "# 3x3x3 Tensor of normally distributed numbers; mean 0 and standard devia\n",
    "# tion 2\n",
    "normal = tf.random_normal([3, 3, 3], mean=0.0, stddev=2.0)\n",
    "\n",
    "# No values below 3.0 or above 7.0 will be returned in this Tensor\n",
    "trunc = tf.truncated_normal([2, 2], mean=5.0, stddev=1.0)\n",
    "\n",
    "# Default value of mean=0.0\n",
    "# Default value of stddev=1.0\n",
    "random_var = tf.Variable(tf.truncated_normal([2, 2]))\n",
    "\n",
    "with tf.Session() as sess:\n",
    "    print('zeros = ', sess.run(zeros))\n",
    "    print('ones = ', sess.run(ones))\n",
    "    print('uniform = ', sess.run(uniform))\n",
    "    print('normal = ', sess.run(normal))\n",
    "    print('trunc = ', sess.run(trunc))\n",
    "    \n",
    "    # Variables need initialization\n",
    "    sess.run(tf.initialize_all_variables())\n",
    "    print('random_var = ', sess.run(random_var))"
   ]
  },
  {
   "cell_type": "code",
   "execution_count": 35,
   "metadata": {
    "collapsed": false
   },
   "outputs": [
    {
     "name": "stdout",
     "output_type": "stream",
     "text": [
      "0\n"
     ]
    }
   ],
   "source": [
    "# No need to initializes everything\n",
    "var1 = tf.Variable(0, name=\"initialize_me\")\n",
    "var2 = tf.Variable(1, name=\"no_initialization\")\n",
    "init = tf.initialize_variables([var1], name=\"init_var1\")\n",
    "with tf.Session() as sess:\n",
    "    sess.run(init)\n",
    "    print(var1.eval())"
   ]
  },
  {
   "cell_type": "markdown",
   "metadata": {},
   "source": [
    "##### Changing variables"
   ]
  },
  {
   "cell_type": "code",
   "execution_count": 36,
   "metadata": {
    "collapsed": false
   },
   "outputs": [
    {
     "name": "stdout",
     "output_type": "stream",
     "text": [
      "First run:  2\n",
      "Second run:  4\n",
      "After inc:  5\n",
      "After dec:  3\n"
     ]
    }
   ],
   "source": [
    "# Create variable with starting value of 1\n",
    "my_var = tf.Variable(1)\n",
    "\n",
    "# Create an operation that multiplies the variable by 2 each time it is run\n",
    "my_var_times_two = my_var.assign(my_var * 2)\n",
    "\n",
    "# Initialization operation\n",
    "init = tf.initialize_all_variables()\n",
    "\n",
    "# Start a session\n",
    "with tf.Session() as sess:\n",
    "    # Initialize variable\n",
    "    sess.run(init)\n",
    "    \n",
    "    # Multiply variable by two and return it\n",
    "    print('First run: ', sess.run(my_var_times_two))\n",
    "\n",
    "    # Multiply again\n",
    "    print('Second run: ', sess.run(my_var_times_two))\n",
    "    \n",
    "    # Increment by 1\n",
    "    print('After inc: ', sess.run(my_var.assign_add(1)))\n",
    "\n",
    "    # Decrement by 2\n",
    "    print('After dec: ', sess.run(my_var.assign_sub(2)))"
   ]
  },
  {
   "cell_type": "code",
   "execution_count": 41,
   "metadata": {
    "collapsed": false
   },
   "outputs": [
    {
     "name": "stdout",
     "output_type": "stream",
     "text": [
      "s1 + 5:  5\n",
      "s2 + 2:  2\n",
      "s1 ++ 5:  10\n",
      "s2 ++ 2:  4\n",
      "s1 reset:  0 0\n"
     ]
    }
   ],
   "source": [
    "## Variables values are maintained by the session\n",
    "# Create Ops\n",
    "my_var = tf.Variable(0)\n",
    "init = tf.initialize_all_variables()\n",
    "\n",
    "# Start Sessions\n",
    "sess1 = tf.Session()\n",
    "sess2 = tf.Session()\n",
    "\n",
    "# Initialize Variable in sess1, and increment value of my_var in that Session\n",
    "sess1.run(init)\n",
    "print('s1 + 5: ', sess1.run(my_var.assign_add(5)))\n",
    "\n",
    "# Do the same with sess2, but use a different increment value\n",
    "sess2.run(init)\n",
    "print('s2 + 2: ', sess2.run(my_var.assign_add(2)))\n",
    "\n",
    "# Can increment the Variable values in each Session independently\n",
    "print('s1 ++ 5: ', sess1.run(my_var.assign_add(5)))\n",
    "\n",
    "print('s2 ++ 2: ', sess2.run(my_var.assign_add(2)))\n",
    "\n",
    "# Reset the Variable to 0, its initial value\n",
    "sess1.run(init)\n",
    "print('s1 reset: ', my_var.eval(sess1), sess1.run(my_var))\n",
    "\n",
    "sess1.close()\n",
    "sess2.close()"
   ]
  },
  {
   "cell_type": "markdown",
   "metadata": {},
   "source": [
    "##### Scopes"
   ]
  },
  {
   "cell_type": "code",
   "execution_count": 2,
   "metadata": {
    "collapsed": true
   },
   "outputs": [],
   "source": [
    "import tensorflow as tf\n",
    "\n",
    "with tf.name_scope(\"Scope_A\"):\n",
    "    a = tf.add(1, 2, name=\"A_add\")\n",
    "    b = tf.mul(a, 3, name=\"A_mul\")\n",
    "    \n",
    "with tf.name_scope(\"Scope_B\"):\n",
    "    c = tf.add(4, 5, name=\"B_add\")\n",
    "    d = tf.mul(c, 6, name=\"B_mul\")\n",
    "    \n",
    "e = tf.add(b, d, name=\"output\")\n",
    "\n",
    "writer = tf.train.SummaryWriter('./boards/name_scope_1', graph=tf.get_default_graph())\n",
    "writer.close()"
   ]
  },
  {
   "cell_type": "code",
   "execution_count": 4,
   "metadata": {
    "collapsed": false
   },
   "outputs": [],
   "source": [
    "graph = tf.Graph()\n",
    "\n",
    "with graph.as_default():\n",
    "    in_1 = tf.placeholder(tf.float32, shape=[], name=\"input_a\")\n",
    "    in_2 = tf.placeholder(tf.float32, shape=[], name=\"input_b\")\n",
    "    const = tf.constant(3, dtype=tf.float32, name=\"static_value\")\n",
    "    \n",
    "    with tf.name_scope(\"Transformation\"):\n",
    "        with tf.name_scope(\"A\"):\n",
    "            A_mul = tf.mul(in_1, const)\n",
    "            A_out = tf.sub(A_mul, in_1)\n",
    "            \n",
    "        with tf.name_scope(\"B\"):\n",
    "            B_mul = tf.mul(in_2, const)\n",
    "            B_out = tf.sub(B_mul, in_2)\n",
    "            \n",
    "        with tf.name_scope(\"C\"):\n",
    "            C_div = tf.div(A_out, B_out)\n",
    "            C_out = tf.add(C_div, const)\n",
    "\n",
    "        with tf.name_scope(\"D\"):\n",
    "            D_div = tf.div(B_out, A_out)\n",
    "            D_out = tf.add(D_div, const)\n",
    "        \n",
    "    out = tf.maximum(C_out, D_out)\n",
    "    \n",
    "writer = tf.train.SummaryWriter('./boards/name_scope_2', graph=graph)\n",
    "writer.close()"
   ]
  },
  {
   "cell_type": "code",
   "execution_count": 11,
   "metadata": {
    "collapsed": false
   },
   "outputs": [
    {
     "name": "stdout",
     "output_type": "stream",
     "text": [
      "out 4.25, A_out 10.0, B_out 8.0, C_out 4.25, D_out 3.799999952316284\n"
     ]
    }
   ],
   "source": [
    "with tf.Session(graph=graph) as sess:\n",
    "    out_res, A_out_res, B_out_res, C_out_res, D_out_res = sess.run(\n",
    "        [out, A_out, B_out, C_out, D_out], feed_dict={in_1: 5, in_2: 4})\n",
    "    print('out {}, A_out {}, B_out {}, C_out {}, D_out {}'.format(\n",
    "            out_res, A_out_res, B_out_res, C_out_res, D_out_res))"
   ]
  },
  {
   "cell_type": "markdown",
   "metadata": {},
   "source": [
    "### Exercise"
   ]
  },
  {
   "cell_type": "code",
   "execution_count": 31,
   "metadata": {
    "collapsed": false
   },
   "outputs": [],
   "source": [
    "graph = tf.Graph()\n",
    "\n",
    "with graph.as_default():\n",
    "    with tf.name_scope('variables'):\n",
    "        # Variable to keep track of how many times the graph has been run\n",
    "        global_step = tf.Variable(0, dtype=tf.int32, trainable=False, name='global_step')\n",
    "        # Variable that keeps track of the sum of all output values over time\n",
    "        total_output = tf.Variable(0, dtype=tf.float32, trainable=False, name='total_output')\n",
    "        \n",
    "    with tf.name_scope('transformation'):\n",
    "        # Separate input layer\n",
    "        with tf.name_scope('input'):\n",
    "            # Create input placeholder- takes in a Vector\n",
    "            a = tf.placeholder(tf.float32, shape=[None], name='input_a')\n",
    "            \n",
    "        # Separate middle layer\n",
    "        with tf.name_scope('middle'):\n",
    "            b = tf.reduce_prod(a, name='product_b')\n",
    "            c = tf.reduce_sum(a, name='sum_c')\n",
    "            \n",
    "        # Separate output layer\n",
    "        with tf.name_scope('output'):\n",
    "            output = tf.add(b, c, name='output')\n",
    "        \n",
    "        with tf.name_scope('update'):\n",
    "            # Increments the total_output Variable by the latest output\n",
    "            update_total = total_output.assign_add(output)\n",
    "            # Increments the above `global_step` Variable, should be run whenever the graph is run\n",
    "            increment_step = global_step.assign_add(1)\n",
    "            \n",
    "        with tf.name_scope('summaries'):\n",
    "            avg = tf.div(update_total, tf.cast(increment_step, tf.float32), name='average')\n",
    "            \n",
    "            # Creates summaries for output node\n",
    "            tf.scalar_summary(b'Output', output, name='output_summary')\n",
    "            tf.scalar_summary(b'Sum of outputs', update_total, name='total_summary')\n",
    "            tf.scalar_summary(b'Average of outputs', avg, name='average_summary')\n",
    "            \n",
    "        with tf.name_scope('global_ops'):\n",
    "            # Initialization Op\n",
    "            init = tf.initialize_all_variables()\n",
    "            # Merge all summaries into one Op\n",
    "            merged_summaries = tf.merge_all_summaries()\n",
    "            \n",
    "# Not a with, so that we can execute the graph again and again\n",
    "sess = tf.Session(graph=graph)\n",
    "writer = tf.train.SummaryWriter('./boards/improved_graph', graph)\n",
    "sess.run(init)\n",
    "\n",
    "def summary_to_dict(summary_str):\n",
    "    \"\"\"Converts the stupid summary byte string into a dictionary.\"\"\"\n",
    "    summary_proto = tf.Summary()\n",
    "    summary_proto.ParseFromString(summary_str)\n",
    "    return {val.tag: val.simple_value for val in summary_proto.value}\n",
    "\n",
    "def run_graph(session, input_tensor):\n",
    "    feed_dict = {a: input_tensor}\n",
    "    out, step, summary = sess.run([output, increment_step, merged_summaries],\n",
    "                                feed_dict=feed_dict)\n",
    "    print(out, step, summary_to_dict(summary))\n",
    "    writer.add_summary(summary, global_step=step)\n",
    "    \n",
    "def run_transformation(session, input_tensor):\n",
    "    # Does not run the updates and summaries; let's see if they are run automatically\n",
    "    feed_dict = {a: input_tensor}\n",
    "    out = sess.run(output, feed_dict=feed_dict)\n",
    "    print(out)"
   ]
  },
  {
   "cell_type": "code",
   "execution_count": 32,
   "metadata": {
    "collapsed": false
   },
   "outputs": [
    {
     "name": "stdout",
     "output_type": "stream",
     "text": [
      "26.0\n",
      "26.0 1 {'Average of outputs': 26.0, 'Sum of outputs': 26.0, 'Output': 26.0}\n",
      "26.0\n",
      "26.0\n",
      "26.0 2 {'Average of outputs': 26.0, 'Sum of outputs': 52.0, 'Output': 26.0}\n",
      "26.0 3 {'Average of outputs': 26.0, 'Sum of outputs': 78.0, 'Output': 26.0}\n"
     ]
    }
   ],
   "source": [
    "run_transformation(sess, [2,8])\n",
    "run_graph(sess, [2,8])\n",
    "run_transformation(sess, [2,8])\n",
    "run_transformation(sess, [2,8])\n",
    "run_graph(sess, [2,8])\n",
    "run_graph(sess, [2,8])"
   ]
  },
  {
   "cell_type": "code",
   "execution_count": 33,
   "metadata": {
    "collapsed": true
   },
   "outputs": [],
   "source": [
    "writer.flush()\n",
    "writer.close()\n",
    "sess.close()"
   ]
  }
 ],
 "metadata": {
  "kernelspec": {
   "display_name": "Python 3",
   "language": "python",
   "name": "python3"
  },
  "language_info": {
   "codemirror_mode": {
    "name": "ipython",
    "version": 3
   },
   "file_extension": ".py",
   "mimetype": "text/x-python",
   "name": "python",
   "nbconvert_exporter": "python",
   "pygments_lexer": "ipython3",
   "version": "3.5.2"
  }
 },
 "nbformat": 4,
 "nbformat_minor": 0
}
